{
  "nbformat": 4,
  "nbformat_minor": 0,
  "metadata": {
    "colab": {
      "provenance": []
    },
    "kernelspec": {
      "name": "python3",
      "display_name": "Python 3"
    },
    "language_info": {
      "name": "python"
    }
  },
  "cells": [
    {
      "cell_type": "code",
      "source": [
        "#W3A3\n",
        "n=int(input(\"Nhập số n: \"))\n",
        "if n>0 and n&(n-1)==0:\n",
        "  print(\"n là lũy thừa của 2\")\n",
        "else:\n",
        "  print(\"n không phải là lũy thừa của 2\")\n",
        "\n"
      ],
      "metadata": {
        "colab": {
          "base_uri": "https://localhost:8080/"
        },
        "id": "mJbwSt4Nj7pP",
        "outputId": "0617065c-b947-441f-b22d-866fe36001ab"
      },
      "execution_count": 3,
      "outputs": [
        {
          "output_type": "stream",
          "name": "stdout",
          "text": [
            "Nhập số n: 25\n",
            "n không phải là lũy thừa của 2\n"
          ]
        }
      ]
    },
    {
      "cell_type": "code",
      "source": [
        "#W3A4\n",
        "import math\n",
        "m= float(input(\"Nhập số m: \"))\n",
        "n= float(input(\"Nhập số n:\"))\n",
        "print(f\"Kết quả làm tròn xuống {math.floor(m/n)}\")\n",
        "\n"
      ],
      "metadata": {
        "colab": {
          "base_uri": "https://localhost:8080/"
        },
        "id": "eyzFY1UqlC-_",
        "outputId": "7853a262-6ef6-4538-d8e8-fd192928afe6"
      },
      "execution_count": 2,
      "outputs": [
        {
          "output_type": "stream",
          "name": "stdout",
          "text": [
            "Nhập số m: 5\n",
            "Nhập số n:2\n",
            "Kết quả làm tròn xuống 2\n"
          ]
        }
      ]
    },
    {
      "cell_type": "code",
      "source": [
        "# W3A5\n",
        "import math\n",
        "m = float(input(\"Nhập m: \"))\n",
        "n = float(input(\"Nhập n: \"))\n",
        "print(f\"Kết quả làm tròn lên = {math.ceil(m / n)}\")\n",
        "\n"
      ],
      "metadata": {
        "colab": {
          "base_uri": "https://localhost:8080/"
        },
        "id": "tZS7__iUluk6",
        "outputId": "109be884-5156-4b43-f7d3-6086e5c58537"
      },
      "execution_count": 4,
      "outputs": [
        {
          "output_type": "stream",
          "name": "stdout",
          "text": [
            "Nhập m: 5\n",
            "Nhập n: 2\n",
            "Kết quả làm tròn lên = 3\n"
          ]
        }
      ]
    },
    {
      "cell_type": "code",
      "source": [
        "# W3A6\n",
        "x = int(input(\"Nhập x: \"))\n",
        "if x % 2 == 0:\n",
        "    print(\"even\")\n",
        "else:\n",
        "    print(\"odd\")\n"
      ],
      "metadata": {
        "colab": {
          "base_uri": "https://localhost:8080/"
        },
        "id": "-ZE9Iwhml_qv",
        "outputId": "49a215e8-21ba-4deb-e31e-44141dc945a9"
      },
      "execution_count": 10,
      "outputs": [
        {
          "output_type": "stream",
          "name": "stdout",
          "text": [
            "Nhập x: 12\n",
            "even\n"
          ]
        }
      ]
    },
    {
      "cell_type": "code",
      "source": [
        "# W3A7\n",
        "a = float(input(\"Nhập số a: \"))\n",
        "b = float(input(\"Nhập số b: \"))\n",
        "if a < 0 and b < 0:\n",
        "    print(\"Yes\")\n",
        "else:\n",
        "    print(\"No\")\n"
      ],
      "metadata": {
        "colab": {
          "base_uri": "https://localhost:8080/"
        },
        "id": "LmjIcN0GmKOW",
        "outputId": "39a0737d-efbe-483d-982d-4f5b92a5000e"
      },
      "execution_count": 9,
      "outputs": [
        {
          "output_type": "stream",
          "name": "stdout",
          "text": [
            "Nhập số a: 10\n",
            "Nhập số b: 10\n",
            "No\n"
          ]
        }
      ]
    },
    {
      "cell_type": "code",
      "source": [
        "# W3A8\n",
        "a=input(\"Nập chuỗi a: \")\n",
        "b=input(\"Nhập chuỗi b: \")\n",
        "if len(a)>len(b):\n",
        "  print(\"True\")\n",
        "else:\n",
        "  print(\"false\")"
      ],
      "metadata": {
        "colab": {
          "base_uri": "https://localhost:8080/"
        },
        "id": "sc-30MOBmsuL",
        "outputId": "87660d01-79d0-4b44-8975-32e745bddc58"
      },
      "execution_count": 8,
      "outputs": [
        {
          "output_type": "stream",
          "name": "stdout",
          "text": [
            "Nập chuỗi a: xin chao\n",
            "Nhập chuỗi b: hello\n",
            "True\n"
          ]
        }
      ]
    },
    {
      "cell_type": "code",
      "source": [
        "# W3A9\n",
        "a = int(input(\"Nhập cạnh a: \"))\n",
        "b = int(input(\"Nhập cạnh b: \"))\n",
        "c = int(input(\"Nhập cạnh c: \"))\n",
        "\n",
        "if a + b > c and a + c > b and b + c > a:\n",
        "    print(\"Yes\")\n",
        "else:\n",
        "    print(\"No\")\n"
      ],
      "metadata": {
        "id": "uetNWHU5nGPX"
      },
      "execution_count": null,
      "outputs": []
    },
    {
      "cell_type": "code",
      "source": [
        "#W3A10\n",
        "a = int(input(\"Nhập số a: \"))\n",
        "b = int(input(\"Nhập số b: \"))\n",
        "c = int(input(\"Nhập số c: \"))\n",
        "d = int(input(\"Nhập số d: \"))\n",
        "largest=max(a,b,c,d)\n",
        "print(f\"Số lớn nhất là {largest}\")88\n"
      ],
      "metadata": {
        "colab": {
          "base_uri": "https://localhost:8080/"
        },
        "id": "zoUS25dTnVUQ",
        "outputId": "57ccc435-8e2e-4546-856b-9cd96b1bd291"
      },
      "execution_count": 6,
      "outputs": [
        {
          "output_type": "stream",
          "name": "stdout",
          "text": [
            "Nhập số a: 5\n",
            "Nhập số b: 10\n",
            "Nhập số c: 15\n",
            "Nhập số d: 89\n",
            "Số lớn nhất là 89\n"
          ]
        }
      ]
    },
    {
      "cell_type": "code",
      "source": [
        "# W3A11\n",
        "a = int(input(\"Nhập cạnh a: \"))\n",
        "b = int(input(\"Nhập cạnh b: \"))\n",
        "c = int(input(\"Nhập cạnh c: \"))\n",
        "\n",
        "if a + b > c and a + c > b and b + c > a:\n",
        "    print(\"Có là tam giác\")\n",
        "    if a==b==c:\n",
        "        print(\"Tam giác đều\")\n",
        "    elif a==b or a==c or b==c:\n",
        "        print(\"Tam giác cân\")\n",
        "    else:\n",
        "        print(\"Tam giác thường\")\n",
        "else:\n",
        "    print(\"Không là tam giác\")\n"
      ],
      "metadata": {
        "colab": {
          "base_uri": "https://localhost:8080/"
        },
        "id": "hov1Un8goHhe",
        "outputId": "0fc34463-6541-493b-fc2b-ab4cb0a8f40c"
      },
      "execution_count": 7,
      "outputs": [
        {
          "output_type": "stream",
          "name": "stdout",
          "text": [
            "Nhập cạnh a: 5\n",
            "Nhập cạnh b: 2\n",
            "Nhập cạnh c: 4\n",
            "Có là tam giác\n",
            "Tam giác thường\n"
          ]
        }
      ]
    },
    {
      "cell_type": "code",
      "source": [
        "# W3A12\n",
        "n = int(input(\"Nhập năm: \"))\n",
        "if (n % 400 == 0) or (n % 4 == 0 and n % 100 != 0):\n",
        "    print(\"Yes\")\n",
        "else:\n",
        "    print(\"No\")\n"
      ],
      "metadata": {
        "id": "vrM5EWlNob1t"
      },
      "execution_count": null,
      "outputs": []
    },
    {
      "cell_type": "code",
      "source": [],
      "metadata": {
        "id": "5G-ODHvdobzm"
      },
      "execution_count": null,
      "outputs": []
    }
  ]
}