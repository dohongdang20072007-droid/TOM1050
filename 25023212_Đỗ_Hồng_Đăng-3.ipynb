{
  "nbformat": 4,
  "nbformat_minor": 0,
  "metadata": {
    "colab": {
      "provenance": []
    },
    "kernelspec": {
      "name": "python3",
      "display_name": "Python 3"
    },
    "language_info": {
      "name": "python"
    }
  },
  "cells": [
    {
      "cell_type": "code",
      "execution_count": null,
      "metadata": {
        "colab": {
          "base_uri": "https://localhost:8080/"
        },
        "id": "MGqzoCLzPmCE",
        "outputId": "4d963987-c842-4305-9edf-380875a4cfdd"
      },
      "outputs": [
        {
          "output_type": "stream",
          "name": "stdout",
          "text": [
            "nhap diem toan: 9\n",
            "nhap diem ly: 3\n",
            "nhap diem hoa:8\n",
            "nhap diem anh:6\n",
            "học lực trung bình\n",
            "Môn lý yếu\n"
          ]
        }
      ],
      "source": [
        "diem_toan=float(input(\"nhap diem toan: \"))\n",
        "diem_ly=float(input(\"nhap diem ly: \"))\n",
        "diem_hoa=float(input(\"nhap diem hoa:\"))\n",
        "diem_anh=float(input(\"nhap diem anh:\"))\n",
        "diem_trung_binh=(diem_toan+diem_ly+diem_hoa+diem_anh)/4\n",
        "if diem_trung_binh>=9:\n",
        "    print(\"Học lực xuất sắc\")\n",
        "elif 8.5<=diem_trung_binh<9:\n",
        "    print('Học lực giỏi')\n",
        "elif 7<= diem_trung_binh<8.5:\n",
        "    print(\"Học lực khá\")\n",
        "elif 5.5<= diem_trung_binh<7:\n",
        "    print(\"học lực trung bình\")\n",
        "elif 4<=diem_trung_binh< 5.5:\n",
        "    print(\"học lực yếu\")\n",
        "else:\n",
        "    print(\"học lực môn kém\")\n",
        "if diem_toan<4:\n",
        "    print('Môn toán yếu')\n",
        "elif diem_ly<4:\n",
        "    print('Môn lý yếu')\n",
        "elif diem_hoa<4:\n",
        "    print(\"môn hóa yếu\")\n",
        "elif diem_anh<4:\n",
        "    print(\"môn anh yếu\")\n"
      ]
    },
    {
      "cell_type": "code",
      "source": [
        "chieu_cao= float(input(\"nhap chieu cao (đơn vị m): \"))\n",
        "can_nang= float(input(\"nhap can nang:\"))\n",
        "BMI=can_nang/(chieu_cao**2)\n",
        "if BMI<18.5:\n",
        "    print(f'''Chỉ số BMI của bạn là {BMI:.2f}\n",
        "          Thiếu cân ''')\n",
        "\n",
        "elif 18.5<=BMI<25:\n",
        "    print(f'''Chỉ số BMI của bạn là {BMI:.2f}\n",
        "    bình thường''')\n",
        "elif 25<=BMI<30:\n",
        "    print(f'''Chỉ số BMI của bạn là {BMI:.2f}\n",
        "    thừa cân''')\n",
        "else:\n",
        "    print(f'''Chỉ số BMI của bạn là {BMI:.2f}\n",
        "          béo phì''')\n",
        "\n"
      ],
      "metadata": {
        "colab": {
          "base_uri": "https://localhost:8080/"
        },
        "id": "lyvKVOZ8TAP2",
        "outputId": "987a26f5-684b-4399-fe1b-b978d7f9d4f7"
      },
      "execution_count": null,
      "outputs": [
        {
          "output_type": "stream",
          "name": "stdout",
          "text": [
            "nhap chieu cao (đơn vị m): 1.894\n",
            "nhap can nang:83.5\n",
            "Chỉ số BMI của bạn là 23.28\n",
            "    bình thường\n"
          ]
        }
      ]
    },
    {
      "cell_type": "code",
      "source": [
        "n = int(input(\"Nhập số lượng mặt hàng: \"))\n",
        "\n",
        "items = []\n",
        "for i in range(n):\n",
        "    print(f\"\\nMặt hàng {i+1}:\")\n",
        "    ten = input(\"Tên mặt hàng: \")\n",
        "    sl = int(input(\"Số lượng: \"))\n",
        "    dg = float(input(\"Đơn giá ($): \"))\n",
        "    thanh_tien = sl * dg\n",
        "    items.append([ten, sl, dg, thanh_tien])\n",
        "\n",
        "\n",
        "tong = sum([item[3] for item in items])\n",
        "\n",
        "giam = 0\n",
        "if tong >= 100:\n",
        "    giam = 0.1 * tong\n",
        "elif tong >= 50:\n",
        "    giam = 0.05 * tong\n",
        "\n",
        "phai_tra = tong - giam\n",
        "print(f'so tien phai tra la: {phai_tra}')\n"
      ],
      "metadata": {
        "colab": {
          "base_uri": "https://localhost:8080/"
        },
        "id": "rg9NtFklfbsb",
        "outputId": "92e20846-9fc5-47bf-bfab-489b595d9240"
      },
      "execution_count": 19,
      "outputs": [
        {
          "output_type": "stream",
          "name": "stdout",
          "text": [
            "Nhập số lượng mặt hàng: 2\n",
            "\n",
            "Mặt hàng 1:\n",
            "Tên mặt hàng: sach \n",
            "Số lượng: 2\n",
            "Đơn giá ($): 15\n",
            "\n",
            "Mặt hàng 2:\n",
            "Tên mặt hàng: sach ly\n",
            "Số lượng: 2\n",
            "Đơn giá ($): 2\n",
            "so tien phai tra la: 34.0\n"
          ]
        }
      ]
    }
  ]
}